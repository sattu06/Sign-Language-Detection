{
 "cells": [
  {
   "cell_type": "code",
   "execution_count": null,
   "id": "7f380da6-2ccf-4ce4-9690-12fb7f487848",
   "metadata": {},
   "outputs": [],
   "source": [
    "import os\n",
    "import cv2\n",
    "\n",
    "#creating a directory\n",
    "DATA_DIR = './data'\n",
    "if not os.path.exists(DATA_DIR):\n",
    "    os.makedirs(DATA_DIR)\n",
    "\n",
    "#declaring number of directory to be created\n",
    "#One directory for each alphabet and for each alphabet 100 images will be taken\n",
    "number_of_classes = 38\n",
    "dataset_size = 100\n",
    "\n",
    "# capturing the image and saving it to directory.\n",
    "cap = cv2.VideoCapture(0)\n",
    "for j in range(number_of_classes):\n",
    "    #making individual directory for each class\n",
    "    if not os.path.exists(os.path.join(DATA_DIR, str(j))):\n",
    "        #making individual directory for each image\n",
    "        os.makedirs(os.path.join(DATA_DIR, str(j)))\n",
    "\n",
    "    print('Collecting data for class {}'.format(j))\n",
    "    done=False\n",
    "    while True:\n",
    "        #ret-frame capture successful or not, frame- the frame captured\n",
    "        ret, frame = cap.read()\n",
    "        #add text to frame\n",
    "        cv2.putText(frame, 'Ready? Press \"Q\" to start', (100, 50), cv2.FONT_HERSHEY_SIMPLEX, 1.3, (0, 255, 0), 3,\n",
    "                    cv2.LINE_AA)\n",
    "        #window title\n",
    "        cv2.imshow('frame', frame)\n",
    "        #press q to exit\n",
    "        if cv2.waitKey(25) == ord('q'):\n",
    "            break\n",
    "\n",
    "    #capturing 100 times\n",
    "    counter = 0\n",
    "    while counter < dataset_size:\n",
    "        ret, frame = cap.read()\n",
    "        cv2.imshow('frame', frame)\n",
    "        cv2.waitKey(25)\n",
    "        #writing into the directory and incrementing the counter\n",
    "        cv2.imwrite(os.path.join(DATA_DIR, str(j), '{}.jpg'.format(counter)), frame)\n",
    "        counter += 1\n",
    "\n",
    "cap.release()\n",
    "cv2.destroyAllWindows()\n"
   ]
  }
 ],
 "metadata": {
  "kernelspec": {
   "display_name": "Python 3 (ipykernel)",
   "language": "python",
   "name": "python3"
  },
  "language_info": {
   "codemirror_mode": {
    "name": "ipython",
    "version": 3
   },
   "file_extension": ".py",
   "mimetype": "text/x-python",
   "name": "python",
   "nbconvert_exporter": "python",
   "pygments_lexer": "ipython3",
   "version": "3.11.5"
  }
 },
 "nbformat": 4,
 "nbformat_minor": 5
}
